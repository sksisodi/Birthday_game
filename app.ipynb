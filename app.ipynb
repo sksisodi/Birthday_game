{
 "cells": [
  {
   "cell_type": "code",
   "execution_count": null,
   "metadata": {},
   "outputs": [
    {
     "name": "stdout",
     "output_type": "stream",
     "text": [
      " * Serving Flask app '__main__'\n",
      " * Debug mode: on\n"
     ]
    },
    {
     "name": "stderr",
     "output_type": "stream",
     "text": [
      "WARNING: This is a development server. Do not use it in a production deployment. Use a production WSGI server instead.\n",
      " * Running on http://127.0.0.1:5000\n",
      "Press CTRL+C to quit\n",
      " * Restarting with stat\n"
     ]
    },
    {
     "ename": "SystemExit",
     "evalue": "1",
     "output_type": "error",
     "traceback": [
      "An exception has occurred, use %tb to see the full traceback.\n",
      "\u001b[1;31mSystemExit\u001b[0m\u001b[1;31m:\u001b[0m 1\n"
     ]
    },
    {
     "name": "stderr",
     "output_type": "stream",
     "text": [
      "C:\\Users\\shwet\\AppData\\Roaming\\Python\\Python311\\site-packages\\IPython\\core\\interactiveshell.py:3516: UserWarning: To exit: use 'exit', 'quit', or Ctrl-D.\n",
      "  warn(\"To exit: use 'exit', 'quit', or Ctrl-D.\", stacklevel=1)\n"
     ]
    }
   ],
   "source": [
    "from flask import Flask, render_template, Response, request, jsonify\n",
    "import cv2\n",
    "\n",
    "app = Flask(__name__)\n",
    "\n",
    "# Initialize the video capture object\n",
    "camera = cv2.VideoCapture(0)\n",
    "\n",
    "# Load the pre-trained QR code detector\n",
    "detector = cv2.QRCodeDetector()\n",
    "\n",
    "# Dictionary to store detected QR codes and associated actions\n",
    "qr_actions = {\n",
    "    \"QR_CODE_1\": \"Action 1\",  # Replace with your actual QR code data and actions\n",
    "    \"QR_CODE_2\": \"Action 2\",\n",
    "    \"QR_CODE_3\": \"Action 3\"\n",
    "}\n",
    "\n",
    "# Function to generate frames for the video stream with QR code detection\n",
    "def generate_frames():\n",
    "    while True:\n",
    "        success, frame = camera.read()\n",
    "        if not success:\n",
    "            break\n",
    "        else:\n",
    "            # Detect and decode the QR code\n",
    "            data, bbox, _ = detector.detectAndDecode(frame)\n",
    "            if bbox is not None:\n",
    "                # Draw a bounding box around the detected QR code\n",
    "                for i in range(len(bbox)):\n",
    "                    cv2.line(frame, tuple(bbox[i][0]), tuple(bbox[(i+1) % len(bbox)][0]), color=(255, 0, 0), thickness=2)\n",
    "                \n",
    "                # Display the decoded data\n",
    "                if data:\n",
    "                    cv2.putText(frame, data, (int(bbox[0][0][0]), int(bbox[0][0][1]) - 10), cv2.FONT_HERSHEY_SIMPLEX, 0.5, (0, 255, 0), 2)\n",
    "\n",
    "                    # Trigger action based on the detected QR code\n",
    "                    action = qr_actions.get(data)\n",
    "                    if action:\n",
    "                        # For this example, we'll just print the action\n",
    "                        print(f\"QR code detected: {data} - Triggering action: {action}\")\n",
    "                        # You can replace this with your desired game logic\n",
    "\n",
    "            # Encode the frame in JPEG format\n",
    "            ret, buffer = cv2.imencode('.jpg', frame)\n",
    "            frame = buffer.tobytes()\n",
    "            yield (b'--frame\\r\\n'\n",
    "                   b'Content-Type: image/jpeg\\r\\n\\r\\n' + frame + b'\\r\\n')\n",
    "\n",
    "@app.route('/')\n",
    "def index():\n",
    "    return render_template('index_1.html')\n",
    "\n",
    "@app.route('/video_feed')\n",
    "def video_feed():\n",
    "    return Response(generate_frames(), mimetype='multipart/x-mixed-replace; boundary=frame')\n",
    "\n",
    "if __name__ == '__main__':\n",
    "    app.run(debug=True)"
   ]
  }
 ],
 "metadata": {
  "kernelspec": {
   "display_name": "Python 3",
   "language": "python",
   "name": "python3"
  },
  "language_info": {
   "codemirror_mode": {
    "name": "ipython",
    "version": 3
   },
   "file_extension": ".py",
   "mimetype": "text/x-python",
   "name": "python",
   "nbconvert_exporter": "python",
   "pygments_lexer": "ipython3",
   "version": "3.11.4"
  }
 },
 "nbformat": 4,
 "nbformat_minor": 2
}
